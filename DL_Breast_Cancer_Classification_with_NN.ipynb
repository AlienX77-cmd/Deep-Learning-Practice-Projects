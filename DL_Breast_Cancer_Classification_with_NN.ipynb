{
  "nbformat": 4,
  "nbformat_minor": 0,
  "metadata": {
    "colab": {
      "provenance": [],
      "authorship_tag": "ABX9TyN0QhDV7VGguJp9dLuF/uwd",
      "include_colab_link": true
    },
    "kernelspec": {
      "name": "python3",
      "display_name": "Python 3"
    },
    "language_info": {
      "name": "python"
    }
  },
  "cells": [
    {
      "cell_type": "markdown",
      "metadata": {
        "id": "view-in-github",
        "colab_type": "text"
      },
      "source": [
        "<a href=\"https://colab.research.google.com/github/AlienX77-cmd/Deep-Learning-Practice-Projects/blob/main/DL_Breast_Cancer_Classification_with_NN.ipynb\" target=\"_parent\"><img src=\"https://colab.research.google.com/assets/colab-badge.svg\" alt=\"Open In Colab\"/></a>"
      ]
    },
    {
      "cell_type": "code",
      "execution_count": 25,
      "metadata": {
        "id": "0OR27JvgZEha"
      },
      "outputs": [],
      "source": [
        "import numpy as np\n",
        "import pandas as pd\n",
        "import matplotlib.pyplot as plt\n",
        "import sklearn.datasets\n",
        "from sklearn.model_selection import train_test_split"
      ]
    },
    {
      "cell_type": "markdown",
      "source": [
        "##**Data Collection & Data Processing**"
      ],
      "metadata": {
        "id": "gwTxu9QpZM2H"
      }
    },
    {
      "cell_type": "code",
      "source": [
        "# Loading the data from sklearn\n",
        "breast_dataset = sklearn.datasets.load_breast_cancer()\n",
        "print(breast_dataset)"
      ],
      "metadata": {
        "colab": {
          "base_uri": "https://localhost:8080/"
        },
        "id": "IyZXr0hYZOIN",
        "outputId": "0c042f4e-e6da-44b1-c53e-1aa32db9b698"
      },
      "execution_count": 26,
      "outputs": [
        {
          "output_type": "stream",
          "name": "stdout",
          "text": [
            "{'data': array([[1.799e+01, 1.038e+01, 1.228e+02, ..., 2.654e-01, 4.601e-01,\n",
            "        1.189e-01],\n",
            "       [2.057e+01, 1.777e+01, 1.329e+02, ..., 1.860e-01, 2.750e-01,\n",
            "        8.902e-02],\n",
            "       [1.969e+01, 2.125e+01, 1.300e+02, ..., 2.430e-01, 3.613e-01,\n",
            "        8.758e-02],\n",
            "       ...,\n",
            "       [1.660e+01, 2.808e+01, 1.083e+02, ..., 1.418e-01, 2.218e-01,\n",
            "        7.820e-02],\n",
            "       [2.060e+01, 2.933e+01, 1.401e+02, ..., 2.650e-01, 4.087e-01,\n",
            "        1.240e-01],\n",
            "       [7.760e+00, 2.454e+01, 4.792e+01, ..., 0.000e+00, 2.871e-01,\n",
            "        7.039e-02]]), 'target': array([0, 0, 0, 0, 0, 0, 0, 0, 0, 0, 0, 0, 0, 0, 0, 0, 0, 0, 0, 1, 1, 1,\n",
            "       0, 0, 0, 0, 0, 0, 0, 0, 0, 0, 0, 0, 0, 0, 0, 1, 0, 0, 0, 0, 0, 0,\n",
            "       0, 0, 1, 0, 1, 1, 1, 1, 1, 0, 0, 1, 0, 0, 1, 1, 1, 1, 0, 1, 0, 0,\n",
            "       1, 1, 1, 1, 0, 1, 0, 0, 1, 0, 1, 0, 0, 1, 1, 1, 0, 0, 1, 0, 0, 0,\n",
            "       1, 1, 1, 0, 1, 1, 0, 0, 1, 1, 1, 0, 0, 1, 1, 1, 1, 0, 1, 1, 0, 1,\n",
            "       1, 1, 1, 1, 1, 1, 1, 0, 0, 0, 1, 0, 0, 1, 1, 1, 0, 0, 1, 0, 1, 0,\n",
            "       0, 1, 0, 0, 1, 1, 0, 1, 1, 0, 1, 1, 1, 1, 0, 1, 1, 1, 1, 1, 1, 1,\n",
            "       1, 1, 0, 1, 1, 1, 1, 0, 0, 1, 0, 1, 1, 0, 0, 1, 1, 0, 0, 1, 1, 1,\n",
            "       1, 0, 1, 1, 0, 0, 0, 1, 0, 1, 0, 1, 1, 1, 0, 1, 1, 0, 0, 1, 0, 0,\n",
            "       0, 0, 1, 0, 0, 0, 1, 0, 1, 0, 1, 1, 0, 1, 0, 0, 0, 0, 1, 1, 0, 0,\n",
            "       1, 1, 1, 0, 1, 1, 1, 1, 1, 0, 0, 1, 1, 0, 1, 1, 0, 0, 1, 0, 1, 1,\n",
            "       1, 1, 0, 1, 1, 1, 1, 1, 0, 1, 0, 0, 0, 0, 0, 0, 0, 0, 0, 0, 0, 0,\n",
            "       0, 0, 1, 1, 1, 1, 1, 1, 0, 1, 0, 1, 1, 0, 1, 1, 0, 1, 0, 0, 1, 1,\n",
            "       1, 1, 1, 1, 1, 1, 1, 1, 1, 1, 1, 0, 1, 1, 0, 1, 0, 1, 1, 1, 1, 1,\n",
            "       1, 1, 1, 1, 1, 1, 1, 1, 1, 0, 1, 1, 1, 0, 1, 0, 1, 1, 1, 1, 0, 0,\n",
            "       0, 1, 1, 1, 1, 0, 1, 0, 1, 0, 1, 1, 1, 0, 1, 1, 1, 1, 1, 1, 1, 0,\n",
            "       0, 0, 1, 1, 1, 1, 1, 1, 1, 1, 1, 1, 1, 0, 0, 1, 0, 0, 0, 1, 0, 0,\n",
            "       1, 1, 1, 1, 1, 0, 1, 1, 1, 1, 1, 0, 1, 1, 1, 0, 1, 1, 0, 0, 1, 1,\n",
            "       1, 1, 1, 1, 0, 1, 1, 1, 1, 1, 1, 1, 0, 1, 1, 1, 1, 1, 0, 1, 1, 0,\n",
            "       1, 1, 1, 1, 1, 1, 1, 1, 1, 1, 1, 1, 0, 1, 0, 0, 1, 0, 1, 1, 1, 1,\n",
            "       1, 0, 1, 1, 0, 1, 0, 1, 1, 0, 1, 0, 1, 1, 1, 1, 1, 1, 1, 1, 0, 0,\n",
            "       1, 1, 1, 1, 1, 1, 0, 1, 1, 1, 1, 1, 1, 1, 1, 1, 1, 0, 1, 1, 1, 1,\n",
            "       1, 1, 1, 0, 1, 0, 1, 1, 0, 1, 1, 1, 1, 1, 0, 0, 1, 0, 1, 0, 1, 1,\n",
            "       1, 1, 1, 0, 1, 1, 0, 1, 0, 1, 0, 0, 1, 1, 1, 0, 1, 1, 1, 1, 1, 1,\n",
            "       1, 1, 1, 1, 1, 0, 1, 0, 0, 1, 1, 1, 1, 1, 1, 1, 1, 1, 1, 1, 1, 1,\n",
            "       1, 1, 1, 1, 1, 1, 1, 1, 1, 1, 1, 1, 0, 0, 0, 0, 0, 0, 1]), 'frame': None, 'target_names': array(['malignant', 'benign'], dtype='<U9'), 'DESCR': '.. _breast_cancer_dataset:\\n\\nBreast cancer wisconsin (diagnostic) dataset\\n--------------------------------------------\\n\\n**Data Set Characteristics:**\\n\\n    :Number of Instances: 569\\n\\n    :Number of Attributes: 30 numeric, predictive attributes and the class\\n\\n    :Attribute Information:\\n        - radius (mean of distances from center to points on the perimeter)\\n        - texture (standard deviation of gray-scale values)\\n        - perimeter\\n        - area\\n        - smoothness (local variation in radius lengths)\\n        - compactness (perimeter^2 / area - 1.0)\\n        - concavity (severity of concave portions of the contour)\\n        - concave points (number of concave portions of the contour)\\n        - symmetry\\n        - fractal dimension (\"coastline approximation\" - 1)\\n\\n        The mean, standard error, and \"worst\" or largest (mean of the three\\n        worst/largest values) of these features were computed for each image,\\n        resulting in 30 features.  For instance, field 0 is Mean Radius, field\\n        10 is Radius SE, field 20 is Worst Radius.\\n\\n        - class:\\n                - WDBC-Malignant\\n                - WDBC-Benign\\n\\n    :Summary Statistics:\\n\\n    ===================================== ====== ======\\n                                           Min    Max\\n    ===================================== ====== ======\\n    radius (mean):                        6.981  28.11\\n    texture (mean):                       9.71   39.28\\n    perimeter (mean):                     43.79  188.5\\n    area (mean):                          143.5  2501.0\\n    smoothness (mean):                    0.053  0.163\\n    compactness (mean):                   0.019  0.345\\n    concavity (mean):                     0.0    0.427\\n    concave points (mean):                0.0    0.201\\n    symmetry (mean):                      0.106  0.304\\n    fractal dimension (mean):             0.05   0.097\\n    radius (standard error):              0.112  2.873\\n    texture (standard error):             0.36   4.885\\n    perimeter (standard error):           0.757  21.98\\n    area (standard error):                6.802  542.2\\n    smoothness (standard error):          0.002  0.031\\n    compactness (standard error):         0.002  0.135\\n    concavity (standard error):           0.0    0.396\\n    concave points (standard error):      0.0    0.053\\n    symmetry (standard error):            0.008  0.079\\n    fractal dimension (standard error):   0.001  0.03\\n    radius (worst):                       7.93   36.04\\n    texture (worst):                      12.02  49.54\\n    perimeter (worst):                    50.41  251.2\\n    area (worst):                         185.2  4254.0\\n    smoothness (worst):                   0.071  0.223\\n    compactness (worst):                  0.027  1.058\\n    concavity (worst):                    0.0    1.252\\n    concave points (worst):               0.0    0.291\\n    symmetry (worst):                     0.156  0.664\\n    fractal dimension (worst):            0.055  0.208\\n    ===================================== ====== ======\\n\\n    :Missing Attribute Values: None\\n\\n    :Class Distribution: 212 - Malignant, 357 - Benign\\n\\n    :Creator:  Dr. William H. Wolberg, W. Nick Street, Olvi L. Mangasarian\\n\\n    :Donor: Nick Street\\n\\n    :Date: November, 1995\\n\\nThis is a copy of UCI ML Breast Cancer Wisconsin (Diagnostic) datasets.\\nhttps://goo.gl/U2Uwz2\\n\\nFeatures are computed from a digitized image of a fine needle\\naspirate (FNA) of a breast mass.  They describe\\ncharacteristics of the cell nuclei present in the image.\\n\\nSeparating plane described above was obtained using\\nMultisurface Method-Tree (MSM-T) [K. P. Bennett, \"Decision Tree\\nConstruction Via Linear Programming.\" Proceedings of the 4th\\nMidwest Artificial Intelligence and Cognitive Science Society,\\npp. 97-101, 1992], a classification method which uses linear\\nprogramming to construct a decision tree.  Relevant features\\nwere selected using an exhaustive search in the space of 1-4\\nfeatures and 1-3 separating planes.\\n\\nThe actual linear program used to obtain the separating plane\\nin the 3-dimensional space is that described in:\\n[K. P. Bennett and O. L. Mangasarian: \"Robust Linear\\nProgramming Discrimination of Two Linearly Inseparable Sets\",\\nOptimization Methods and Software 1, 1992, 23-34].\\n\\nThis database is also available through the UW CS ftp server:\\n\\nftp ftp.cs.wisc.edu\\ncd math-prog/cpo-dataset/machine-learn/WDBC/\\n\\n.. topic:: References\\n\\n   - W.N. Street, W.H. Wolberg and O.L. Mangasarian. Nuclear feature extraction \\n     for breast tumor diagnosis. IS&T/SPIE 1993 International Symposium on \\n     Electronic Imaging: Science and Technology, volume 1905, pages 861-870,\\n     San Jose, CA, 1993.\\n   - O.L. Mangasarian, W.N. Street and W.H. Wolberg. Breast cancer diagnosis and \\n     prognosis via linear programming. Operations Research, 43(4), pages 570-577, \\n     July-August 1995.\\n   - W.H. Wolberg, W.N. Street, and O.L. Mangasarian. Machine learning techniques\\n     to diagnose breast cancer from fine-needle aspirates. Cancer Letters 77 (1994) \\n     163-171.', 'feature_names': array(['mean radius', 'mean texture', 'mean perimeter', 'mean area',\n",
            "       'mean smoothness', 'mean compactness', 'mean concavity',\n",
            "       'mean concave points', 'mean symmetry', 'mean fractal dimension',\n",
            "       'radius error', 'texture error', 'perimeter error', 'area error',\n",
            "       'smoothness error', 'compactness error', 'concavity error',\n",
            "       'concave points error', 'symmetry error',\n",
            "       'fractal dimension error', 'worst radius', 'worst texture',\n",
            "       'worst perimeter', 'worst area', 'worst smoothness',\n",
            "       'worst compactness', 'worst concavity', 'worst concave points',\n",
            "       'worst symmetry', 'worst fractal dimension'], dtype='<U23'), 'filename': 'breast_cancer.csv', 'data_module': 'sklearn.datasets.data'}\n"
          ]
        }
      ]
    },
    {
      "cell_type": "code",
      "source": [
        "# Loading the data into Pandas data frame\n",
        "data_frame = pd.DataFrame(breast_dataset.data, columns = breast_dataset.feature_names)"
      ],
      "metadata": {
        "id": "6cS2hJIzZS3R"
      },
      "execution_count": 27,
      "outputs": []
    },
    {
      "cell_type": "code",
      "source": [
        "# Adding 'target' column to the dataframe\n",
        "data_frame['target'] = breast_dataset.target\n",
        "data_frame.head()"
      ],
      "metadata": {
        "colab": {
          "base_uri": "https://localhost:8080/",
          "height": 334
        },
        "id": "IWx4wP9OZsE_",
        "outputId": "00219f4e-2eec-4858-85e9-e76cb3892ccf"
      },
      "execution_count": 28,
      "outputs": [
        {
          "output_type": "execute_result",
          "data": {
            "text/plain": [
              "   mean radius  mean texture  mean perimeter  mean area  mean smoothness  \\\n",
              "0        17.99         10.38          122.80     1001.0          0.11840   \n",
              "1        20.57         17.77          132.90     1326.0          0.08474   \n",
              "2        19.69         21.25          130.00     1203.0          0.10960   \n",
              "3        11.42         20.38           77.58      386.1          0.14250   \n",
              "4        20.29         14.34          135.10     1297.0          0.10030   \n",
              "\n",
              "   mean compactness  mean concavity  mean concave points  mean symmetry  \\\n",
              "0           0.27760          0.3001              0.14710         0.2419   \n",
              "1           0.07864          0.0869              0.07017         0.1812   \n",
              "2           0.15990          0.1974              0.12790         0.2069   \n",
              "3           0.28390          0.2414              0.10520         0.2597   \n",
              "4           0.13280          0.1980              0.10430         0.1809   \n",
              "\n",
              "   mean fractal dimension  ...  worst texture  worst perimeter  worst area  \\\n",
              "0                 0.07871  ...          17.33           184.60      2019.0   \n",
              "1                 0.05667  ...          23.41           158.80      1956.0   \n",
              "2                 0.05999  ...          25.53           152.50      1709.0   \n",
              "3                 0.09744  ...          26.50            98.87       567.7   \n",
              "4                 0.05883  ...          16.67           152.20      1575.0   \n",
              "\n",
              "   worst smoothness  worst compactness  worst concavity  worst concave points  \\\n",
              "0            0.1622             0.6656           0.7119                0.2654   \n",
              "1            0.1238             0.1866           0.2416                0.1860   \n",
              "2            0.1444             0.4245           0.4504                0.2430   \n",
              "3            0.2098             0.8663           0.6869                0.2575   \n",
              "4            0.1374             0.2050           0.4000                0.1625   \n",
              "\n",
              "   worst symmetry  worst fractal dimension  target  \n",
              "0          0.4601                  0.11890       0  \n",
              "1          0.2750                  0.08902       0  \n",
              "2          0.3613                  0.08758       0  \n",
              "3          0.6638                  0.17300       0  \n",
              "4          0.2364                  0.07678       0  \n",
              "\n",
              "[5 rows x 31 columns]"
            ],
            "text/html": [
              "\n",
              "  <div id=\"df-a75bdb54-af3f-4e93-83b5-df17b53ded3b\">\n",
              "    <div class=\"colab-df-container\">\n",
              "      <div>\n",
              "<style scoped>\n",
              "    .dataframe tbody tr th:only-of-type {\n",
              "        vertical-align: middle;\n",
              "    }\n",
              "\n",
              "    .dataframe tbody tr th {\n",
              "        vertical-align: top;\n",
              "    }\n",
              "\n",
              "    .dataframe thead th {\n",
              "        text-align: right;\n",
              "    }\n",
              "</style>\n",
              "<table border=\"1\" class=\"dataframe\">\n",
              "  <thead>\n",
              "    <tr style=\"text-align: right;\">\n",
              "      <th></th>\n",
              "      <th>mean radius</th>\n",
              "      <th>mean texture</th>\n",
              "      <th>mean perimeter</th>\n",
              "      <th>mean area</th>\n",
              "      <th>mean smoothness</th>\n",
              "      <th>mean compactness</th>\n",
              "      <th>mean concavity</th>\n",
              "      <th>mean concave points</th>\n",
              "      <th>mean symmetry</th>\n",
              "      <th>mean fractal dimension</th>\n",
              "      <th>...</th>\n",
              "      <th>worst texture</th>\n",
              "      <th>worst perimeter</th>\n",
              "      <th>worst area</th>\n",
              "      <th>worst smoothness</th>\n",
              "      <th>worst compactness</th>\n",
              "      <th>worst concavity</th>\n",
              "      <th>worst concave points</th>\n",
              "      <th>worst symmetry</th>\n",
              "      <th>worst fractal dimension</th>\n",
              "      <th>target</th>\n",
              "    </tr>\n",
              "  </thead>\n",
              "  <tbody>\n",
              "    <tr>\n",
              "      <th>0</th>\n",
              "      <td>17.99</td>\n",
              "      <td>10.38</td>\n",
              "      <td>122.80</td>\n",
              "      <td>1001.0</td>\n",
              "      <td>0.11840</td>\n",
              "      <td>0.27760</td>\n",
              "      <td>0.3001</td>\n",
              "      <td>0.14710</td>\n",
              "      <td>0.2419</td>\n",
              "      <td>0.07871</td>\n",
              "      <td>...</td>\n",
              "      <td>17.33</td>\n",
              "      <td>184.60</td>\n",
              "      <td>2019.0</td>\n",
              "      <td>0.1622</td>\n",
              "      <td>0.6656</td>\n",
              "      <td>0.7119</td>\n",
              "      <td>0.2654</td>\n",
              "      <td>0.4601</td>\n",
              "      <td>0.11890</td>\n",
              "      <td>0</td>\n",
              "    </tr>\n",
              "    <tr>\n",
              "      <th>1</th>\n",
              "      <td>20.57</td>\n",
              "      <td>17.77</td>\n",
              "      <td>132.90</td>\n",
              "      <td>1326.0</td>\n",
              "      <td>0.08474</td>\n",
              "      <td>0.07864</td>\n",
              "      <td>0.0869</td>\n",
              "      <td>0.07017</td>\n",
              "      <td>0.1812</td>\n",
              "      <td>0.05667</td>\n",
              "      <td>...</td>\n",
              "      <td>23.41</td>\n",
              "      <td>158.80</td>\n",
              "      <td>1956.0</td>\n",
              "      <td>0.1238</td>\n",
              "      <td>0.1866</td>\n",
              "      <td>0.2416</td>\n",
              "      <td>0.1860</td>\n",
              "      <td>0.2750</td>\n",
              "      <td>0.08902</td>\n",
              "      <td>0</td>\n",
              "    </tr>\n",
              "    <tr>\n",
              "      <th>2</th>\n",
              "      <td>19.69</td>\n",
              "      <td>21.25</td>\n",
              "      <td>130.00</td>\n",
              "      <td>1203.0</td>\n",
              "      <td>0.10960</td>\n",
              "      <td>0.15990</td>\n",
              "      <td>0.1974</td>\n",
              "      <td>0.12790</td>\n",
              "      <td>0.2069</td>\n",
              "      <td>0.05999</td>\n",
              "      <td>...</td>\n",
              "      <td>25.53</td>\n",
              "      <td>152.50</td>\n",
              "      <td>1709.0</td>\n",
              "      <td>0.1444</td>\n",
              "      <td>0.4245</td>\n",
              "      <td>0.4504</td>\n",
              "      <td>0.2430</td>\n",
              "      <td>0.3613</td>\n",
              "      <td>0.08758</td>\n",
              "      <td>0</td>\n",
              "    </tr>\n",
              "    <tr>\n",
              "      <th>3</th>\n",
              "      <td>11.42</td>\n",
              "      <td>20.38</td>\n",
              "      <td>77.58</td>\n",
              "      <td>386.1</td>\n",
              "      <td>0.14250</td>\n",
              "      <td>0.28390</td>\n",
              "      <td>0.2414</td>\n",
              "      <td>0.10520</td>\n",
              "      <td>0.2597</td>\n",
              "      <td>0.09744</td>\n",
              "      <td>...</td>\n",
              "      <td>26.50</td>\n",
              "      <td>98.87</td>\n",
              "      <td>567.7</td>\n",
              "      <td>0.2098</td>\n",
              "      <td>0.8663</td>\n",
              "      <td>0.6869</td>\n",
              "      <td>0.2575</td>\n",
              "      <td>0.6638</td>\n",
              "      <td>0.17300</td>\n",
              "      <td>0</td>\n",
              "    </tr>\n",
              "    <tr>\n",
              "      <th>4</th>\n",
              "      <td>20.29</td>\n",
              "      <td>14.34</td>\n",
              "      <td>135.10</td>\n",
              "      <td>1297.0</td>\n",
              "      <td>0.10030</td>\n",
              "      <td>0.13280</td>\n",
              "      <td>0.1980</td>\n",
              "      <td>0.10430</td>\n",
              "      <td>0.1809</td>\n",
              "      <td>0.05883</td>\n",
              "      <td>...</td>\n",
              "      <td>16.67</td>\n",
              "      <td>152.20</td>\n",
              "      <td>1575.0</td>\n",
              "      <td>0.1374</td>\n",
              "      <td>0.2050</td>\n",
              "      <td>0.4000</td>\n",
              "      <td>0.1625</td>\n",
              "      <td>0.2364</td>\n",
              "      <td>0.07678</td>\n",
              "      <td>0</td>\n",
              "    </tr>\n",
              "  </tbody>\n",
              "</table>\n",
              "<p>5 rows × 31 columns</p>\n",
              "</div>\n",
              "      <button class=\"colab-df-convert\" onclick=\"convertToInteractive('df-a75bdb54-af3f-4e93-83b5-df17b53ded3b')\"\n",
              "              title=\"Convert this dataframe to an interactive table.\"\n",
              "              style=\"display:none;\">\n",
              "        \n",
              "  <svg xmlns=\"http://www.w3.org/2000/svg\" height=\"24px\"viewBox=\"0 0 24 24\"\n",
              "       width=\"24px\">\n",
              "    <path d=\"M0 0h24v24H0V0z\" fill=\"none\"/>\n",
              "    <path d=\"M18.56 5.44l.94 2.06.94-2.06 2.06-.94-2.06-.94-.94-2.06-.94 2.06-2.06.94zm-11 1L8.5 8.5l.94-2.06 2.06-.94-2.06-.94L8.5 2.5l-.94 2.06-2.06.94zm10 10l.94 2.06.94-2.06 2.06-.94-2.06-.94-.94-2.06-.94 2.06-2.06.94z\"/><path d=\"M17.41 7.96l-1.37-1.37c-.4-.4-.92-.59-1.43-.59-.52 0-1.04.2-1.43.59L10.3 9.45l-7.72 7.72c-.78.78-.78 2.05 0 2.83L4 21.41c.39.39.9.59 1.41.59.51 0 1.02-.2 1.41-.59l7.78-7.78 2.81-2.81c.8-.78.8-2.07 0-2.86zM5.41 20L4 18.59l7.72-7.72 1.47 1.35L5.41 20z\"/>\n",
              "  </svg>\n",
              "      </button>\n",
              "      \n",
              "  <style>\n",
              "    .colab-df-container {\n",
              "      display:flex;\n",
              "      flex-wrap:wrap;\n",
              "      gap: 12px;\n",
              "    }\n",
              "\n",
              "    .colab-df-convert {\n",
              "      background-color: #E8F0FE;\n",
              "      border: none;\n",
              "      border-radius: 50%;\n",
              "      cursor: pointer;\n",
              "      display: none;\n",
              "      fill: #1967D2;\n",
              "      height: 32px;\n",
              "      padding: 0 0 0 0;\n",
              "      width: 32px;\n",
              "    }\n",
              "\n",
              "    .colab-df-convert:hover {\n",
              "      background-color: #E2EBFA;\n",
              "      box-shadow: 0px 1px 2px rgba(60, 64, 67, 0.3), 0px 1px 3px 1px rgba(60, 64, 67, 0.15);\n",
              "      fill: #174EA6;\n",
              "    }\n",
              "\n",
              "    [theme=dark] .colab-df-convert {\n",
              "      background-color: #3B4455;\n",
              "      fill: #D2E3FC;\n",
              "    }\n",
              "\n",
              "    [theme=dark] .colab-df-convert:hover {\n",
              "      background-color: #434B5C;\n",
              "      box-shadow: 0px 1px 3px 1px rgba(0, 0, 0, 0.15);\n",
              "      filter: drop-shadow(0px 1px 2px rgba(0, 0, 0, 0.3));\n",
              "      fill: #FFFFFF;\n",
              "    }\n",
              "  </style>\n",
              "\n",
              "      <script>\n",
              "        const buttonEl =\n",
              "          document.querySelector('#df-a75bdb54-af3f-4e93-83b5-df17b53ded3b button.colab-df-convert');\n",
              "        buttonEl.style.display =\n",
              "          google.colab.kernel.accessAllowed ? 'block' : 'none';\n",
              "\n",
              "        async function convertToInteractive(key) {\n",
              "          const element = document.querySelector('#df-a75bdb54-af3f-4e93-83b5-df17b53ded3b');\n",
              "          const dataTable =\n",
              "            await google.colab.kernel.invokeFunction('convertToInteractive',\n",
              "                                                     [key], {});\n",
              "          if (!dataTable) return;\n",
              "\n",
              "          const docLinkHtml = 'Like what you see? Visit the ' +\n",
              "            '<a target=\"_blank\" href=https://colab.research.google.com/notebooks/data_table.ipynb>data table notebook</a>'\n",
              "            + ' to learn more about interactive tables.';\n",
              "          element.innerHTML = '';\n",
              "          dataTable['output_type'] = 'display_data';\n",
              "          await google.colab.output.renderOutput(dataTable, element);\n",
              "          const docLink = document.createElement('div');\n",
              "          docLink.innerHTML = docLinkHtml;\n",
              "          element.appendChild(docLink);\n",
              "        }\n",
              "      </script>\n",
              "    </div>\n",
              "  </div>\n",
              "  "
            ]
          },
          "metadata": {},
          "execution_count": 28
        }
      ]
    },
    {
      "cell_type": "code",
      "source": [
        "# Showing the number of rows and columns\n",
        "data_frame.shape"
      ],
      "metadata": {
        "colab": {
          "base_uri": "https://localhost:8080/"
        },
        "id": "UTx6Vz2iZtNu",
        "outputId": "ba27b1d9-3ad0-4b69-a563-71d1aceceb8d"
      },
      "execution_count": 29,
      "outputs": [
        {
          "output_type": "execute_result",
          "data": {
            "text/plain": [
              "(569, 31)"
            ]
          },
          "metadata": {},
          "execution_count": 29
        }
      ]
    },
    {
      "cell_type": "code",
      "source": [
        "# Showing some information about the data\n",
        "data_frame.info()"
      ],
      "metadata": {
        "colab": {
          "base_uri": "https://localhost:8080/"
        },
        "id": "zg7fBmMiZ1ON",
        "outputId": "74a2df14-d156-409b-e8d6-a8a42dde2a4f"
      },
      "execution_count": 30,
      "outputs": [
        {
          "output_type": "stream",
          "name": "stdout",
          "text": [
            "<class 'pandas.core.frame.DataFrame'>\n",
            "RangeIndex: 569 entries, 0 to 568\n",
            "Data columns (total 31 columns):\n",
            " #   Column                   Non-Null Count  Dtype  \n",
            "---  ------                   --------------  -----  \n",
            " 0   mean radius              569 non-null    float64\n",
            " 1   mean texture             569 non-null    float64\n",
            " 2   mean perimeter           569 non-null    float64\n",
            " 3   mean area                569 non-null    float64\n",
            " 4   mean smoothness          569 non-null    float64\n",
            " 5   mean compactness         569 non-null    float64\n",
            " 6   mean concavity           569 non-null    float64\n",
            " 7   mean concave points      569 non-null    float64\n",
            " 8   mean symmetry            569 non-null    float64\n",
            " 9   mean fractal dimension   569 non-null    float64\n",
            " 10  radius error             569 non-null    float64\n",
            " 11  texture error            569 non-null    float64\n",
            " 12  perimeter error          569 non-null    float64\n",
            " 13  area error               569 non-null    float64\n",
            " 14  smoothness error         569 non-null    float64\n",
            " 15  compactness error        569 non-null    float64\n",
            " 16  concavity error          569 non-null    float64\n",
            " 17  concave points error     569 non-null    float64\n",
            " 18  symmetry error           569 non-null    float64\n",
            " 19  fractal dimension error  569 non-null    float64\n",
            " 20  worst radius             569 non-null    float64\n",
            " 21  worst texture            569 non-null    float64\n",
            " 22  worst perimeter          569 non-null    float64\n",
            " 23  worst area               569 non-null    float64\n",
            " 24  worst smoothness         569 non-null    float64\n",
            " 25  worst compactness        569 non-null    float64\n",
            " 26  worst concavity          569 non-null    float64\n",
            " 27  worst concave points     569 non-null    float64\n",
            " 28  worst symmetry           569 non-null    float64\n",
            " 29  worst fractal dimension  569 non-null    float64\n",
            " 30  target                   569 non-null    int64  \n",
            "dtypes: float64(30), int64(1)\n",
            "memory usage: 137.9 KB\n"
          ]
        }
      ]
    },
    {
      "cell_type": "code",
      "source": [
        "# Checking for missing values\n",
        "data_frame.isnull().sum()"
      ],
      "metadata": {
        "colab": {
          "base_uri": "https://localhost:8080/"
        },
        "id": "y2FlPBxfZ-uF",
        "outputId": "0979544a-37d4-45d1-dad1-adee4191bc54"
      },
      "execution_count": 31,
      "outputs": [
        {
          "output_type": "execute_result",
          "data": {
            "text/plain": [
              "mean radius                0\n",
              "mean texture               0\n",
              "mean perimeter             0\n",
              "mean area                  0\n",
              "mean smoothness            0\n",
              "mean compactness           0\n",
              "mean concavity             0\n",
              "mean concave points        0\n",
              "mean symmetry              0\n",
              "mean fractal dimension     0\n",
              "radius error               0\n",
              "texture error              0\n",
              "perimeter error            0\n",
              "area error                 0\n",
              "smoothness error           0\n",
              "compactness error          0\n",
              "concavity error            0\n",
              "concave points error       0\n",
              "symmetry error             0\n",
              "fractal dimension error    0\n",
              "worst radius               0\n",
              "worst texture              0\n",
              "worst perimeter            0\n",
              "worst area                 0\n",
              "worst smoothness           0\n",
              "worst compactness          0\n",
              "worst concavity            0\n",
              "worst concave points       0\n",
              "worst symmetry             0\n",
              "worst fractal dimension    0\n",
              "target                     0\n",
              "dtype: int64"
            ]
          },
          "metadata": {},
          "execution_count": 31
        }
      ]
    },
    {
      "cell_type": "code",
      "source": [
        "# Showing statistical measures about the data\n",
        "data_frame.describe()"
      ],
      "metadata": {
        "colab": {
          "base_uri": "https://localhost:8080/",
          "height": 428
        },
        "id": "x8YRnu9CaCLo",
        "outputId": "c989fe28-4b62-4c51-f1e3-f7bd99d07734"
      },
      "execution_count": 32,
      "outputs": [
        {
          "output_type": "execute_result",
          "data": {
            "text/plain": [
              "       mean radius  mean texture  mean perimeter    mean area  \\\n",
              "count   569.000000    569.000000      569.000000   569.000000   \n",
              "mean     14.127292     19.289649       91.969033   654.889104   \n",
              "std       3.524049      4.301036       24.298981   351.914129   \n",
              "min       6.981000      9.710000       43.790000   143.500000   \n",
              "25%      11.700000     16.170000       75.170000   420.300000   \n",
              "50%      13.370000     18.840000       86.240000   551.100000   \n",
              "75%      15.780000     21.800000      104.100000   782.700000   \n",
              "max      28.110000     39.280000      188.500000  2501.000000   \n",
              "\n",
              "       mean smoothness  mean compactness  mean concavity  mean concave points  \\\n",
              "count       569.000000        569.000000      569.000000           569.000000   \n",
              "mean          0.096360          0.104341        0.088799             0.048919   \n",
              "std           0.014064          0.052813        0.079720             0.038803   \n",
              "min           0.052630          0.019380        0.000000             0.000000   \n",
              "25%           0.086370          0.064920        0.029560             0.020310   \n",
              "50%           0.095870          0.092630        0.061540             0.033500   \n",
              "75%           0.105300          0.130400        0.130700             0.074000   \n",
              "max           0.163400          0.345400        0.426800             0.201200   \n",
              "\n",
              "       mean symmetry  mean fractal dimension  ...  worst texture  \\\n",
              "count     569.000000              569.000000  ...     569.000000   \n",
              "mean        0.181162                0.062798  ...      25.677223   \n",
              "std         0.027414                0.007060  ...       6.146258   \n",
              "min         0.106000                0.049960  ...      12.020000   \n",
              "25%         0.161900                0.057700  ...      21.080000   \n",
              "50%         0.179200                0.061540  ...      25.410000   \n",
              "75%         0.195700                0.066120  ...      29.720000   \n",
              "max         0.304000                0.097440  ...      49.540000   \n",
              "\n",
              "       worst perimeter   worst area  worst smoothness  worst compactness  \\\n",
              "count       569.000000   569.000000        569.000000         569.000000   \n",
              "mean        107.261213   880.583128          0.132369           0.254265   \n",
              "std          33.602542   569.356993          0.022832           0.157336   \n",
              "min          50.410000   185.200000          0.071170           0.027290   \n",
              "25%          84.110000   515.300000          0.116600           0.147200   \n",
              "50%          97.660000   686.500000          0.131300           0.211900   \n",
              "75%         125.400000  1084.000000          0.146000           0.339100   \n",
              "max         251.200000  4254.000000          0.222600           1.058000   \n",
              "\n",
              "       worst concavity  worst concave points  worst symmetry  \\\n",
              "count       569.000000            569.000000      569.000000   \n",
              "mean          0.272188              0.114606        0.290076   \n",
              "std           0.208624              0.065732        0.061867   \n",
              "min           0.000000              0.000000        0.156500   \n",
              "25%           0.114500              0.064930        0.250400   \n",
              "50%           0.226700              0.099930        0.282200   \n",
              "75%           0.382900              0.161400        0.317900   \n",
              "max           1.252000              0.291000        0.663800   \n",
              "\n",
              "       worst fractal dimension      target  \n",
              "count               569.000000  569.000000  \n",
              "mean                  0.083946    0.627417  \n",
              "std                   0.018061    0.483918  \n",
              "min                   0.055040    0.000000  \n",
              "25%                   0.071460    0.000000  \n",
              "50%                   0.080040    1.000000  \n",
              "75%                   0.092080    1.000000  \n",
              "max                   0.207500    1.000000  \n",
              "\n",
              "[8 rows x 31 columns]"
            ],
            "text/html": [
              "\n",
              "  <div id=\"df-d0b29ef1-3766-49bb-896c-7795311ba9b6\">\n",
              "    <div class=\"colab-df-container\">\n",
              "      <div>\n",
              "<style scoped>\n",
              "    .dataframe tbody tr th:only-of-type {\n",
              "        vertical-align: middle;\n",
              "    }\n",
              "\n",
              "    .dataframe tbody tr th {\n",
              "        vertical-align: top;\n",
              "    }\n",
              "\n",
              "    .dataframe thead th {\n",
              "        text-align: right;\n",
              "    }\n",
              "</style>\n",
              "<table border=\"1\" class=\"dataframe\">\n",
              "  <thead>\n",
              "    <tr style=\"text-align: right;\">\n",
              "      <th></th>\n",
              "      <th>mean radius</th>\n",
              "      <th>mean texture</th>\n",
              "      <th>mean perimeter</th>\n",
              "      <th>mean area</th>\n",
              "      <th>mean smoothness</th>\n",
              "      <th>mean compactness</th>\n",
              "      <th>mean concavity</th>\n",
              "      <th>mean concave points</th>\n",
              "      <th>mean symmetry</th>\n",
              "      <th>mean fractal dimension</th>\n",
              "      <th>...</th>\n",
              "      <th>worst texture</th>\n",
              "      <th>worst perimeter</th>\n",
              "      <th>worst area</th>\n",
              "      <th>worst smoothness</th>\n",
              "      <th>worst compactness</th>\n",
              "      <th>worst concavity</th>\n",
              "      <th>worst concave points</th>\n",
              "      <th>worst symmetry</th>\n",
              "      <th>worst fractal dimension</th>\n",
              "      <th>target</th>\n",
              "    </tr>\n",
              "  </thead>\n",
              "  <tbody>\n",
              "    <tr>\n",
              "      <th>count</th>\n",
              "      <td>569.000000</td>\n",
              "      <td>569.000000</td>\n",
              "      <td>569.000000</td>\n",
              "      <td>569.000000</td>\n",
              "      <td>569.000000</td>\n",
              "      <td>569.000000</td>\n",
              "      <td>569.000000</td>\n",
              "      <td>569.000000</td>\n",
              "      <td>569.000000</td>\n",
              "      <td>569.000000</td>\n",
              "      <td>...</td>\n",
              "      <td>569.000000</td>\n",
              "      <td>569.000000</td>\n",
              "      <td>569.000000</td>\n",
              "      <td>569.000000</td>\n",
              "      <td>569.000000</td>\n",
              "      <td>569.000000</td>\n",
              "      <td>569.000000</td>\n",
              "      <td>569.000000</td>\n",
              "      <td>569.000000</td>\n",
              "      <td>569.000000</td>\n",
              "    </tr>\n",
              "    <tr>\n",
              "      <th>mean</th>\n",
              "      <td>14.127292</td>\n",
              "      <td>19.289649</td>\n",
              "      <td>91.969033</td>\n",
              "      <td>654.889104</td>\n",
              "      <td>0.096360</td>\n",
              "      <td>0.104341</td>\n",
              "      <td>0.088799</td>\n",
              "      <td>0.048919</td>\n",
              "      <td>0.181162</td>\n",
              "      <td>0.062798</td>\n",
              "      <td>...</td>\n",
              "      <td>25.677223</td>\n",
              "      <td>107.261213</td>\n",
              "      <td>880.583128</td>\n",
              "      <td>0.132369</td>\n",
              "      <td>0.254265</td>\n",
              "      <td>0.272188</td>\n",
              "      <td>0.114606</td>\n",
              "      <td>0.290076</td>\n",
              "      <td>0.083946</td>\n",
              "      <td>0.627417</td>\n",
              "    </tr>\n",
              "    <tr>\n",
              "      <th>std</th>\n",
              "      <td>3.524049</td>\n",
              "      <td>4.301036</td>\n",
              "      <td>24.298981</td>\n",
              "      <td>351.914129</td>\n",
              "      <td>0.014064</td>\n",
              "      <td>0.052813</td>\n",
              "      <td>0.079720</td>\n",
              "      <td>0.038803</td>\n",
              "      <td>0.027414</td>\n",
              "      <td>0.007060</td>\n",
              "      <td>...</td>\n",
              "      <td>6.146258</td>\n",
              "      <td>33.602542</td>\n",
              "      <td>569.356993</td>\n",
              "      <td>0.022832</td>\n",
              "      <td>0.157336</td>\n",
              "      <td>0.208624</td>\n",
              "      <td>0.065732</td>\n",
              "      <td>0.061867</td>\n",
              "      <td>0.018061</td>\n",
              "      <td>0.483918</td>\n",
              "    </tr>\n",
              "    <tr>\n",
              "      <th>min</th>\n",
              "      <td>6.981000</td>\n",
              "      <td>9.710000</td>\n",
              "      <td>43.790000</td>\n",
              "      <td>143.500000</td>\n",
              "      <td>0.052630</td>\n",
              "      <td>0.019380</td>\n",
              "      <td>0.000000</td>\n",
              "      <td>0.000000</td>\n",
              "      <td>0.106000</td>\n",
              "      <td>0.049960</td>\n",
              "      <td>...</td>\n",
              "      <td>12.020000</td>\n",
              "      <td>50.410000</td>\n",
              "      <td>185.200000</td>\n",
              "      <td>0.071170</td>\n",
              "      <td>0.027290</td>\n",
              "      <td>0.000000</td>\n",
              "      <td>0.000000</td>\n",
              "      <td>0.156500</td>\n",
              "      <td>0.055040</td>\n",
              "      <td>0.000000</td>\n",
              "    </tr>\n",
              "    <tr>\n",
              "      <th>25%</th>\n",
              "      <td>11.700000</td>\n",
              "      <td>16.170000</td>\n",
              "      <td>75.170000</td>\n",
              "      <td>420.300000</td>\n",
              "      <td>0.086370</td>\n",
              "      <td>0.064920</td>\n",
              "      <td>0.029560</td>\n",
              "      <td>0.020310</td>\n",
              "      <td>0.161900</td>\n",
              "      <td>0.057700</td>\n",
              "      <td>...</td>\n",
              "      <td>21.080000</td>\n",
              "      <td>84.110000</td>\n",
              "      <td>515.300000</td>\n",
              "      <td>0.116600</td>\n",
              "      <td>0.147200</td>\n",
              "      <td>0.114500</td>\n",
              "      <td>0.064930</td>\n",
              "      <td>0.250400</td>\n",
              "      <td>0.071460</td>\n",
              "      <td>0.000000</td>\n",
              "    </tr>\n",
              "    <tr>\n",
              "      <th>50%</th>\n",
              "      <td>13.370000</td>\n",
              "      <td>18.840000</td>\n",
              "      <td>86.240000</td>\n",
              "      <td>551.100000</td>\n",
              "      <td>0.095870</td>\n",
              "      <td>0.092630</td>\n",
              "      <td>0.061540</td>\n",
              "      <td>0.033500</td>\n",
              "      <td>0.179200</td>\n",
              "      <td>0.061540</td>\n",
              "      <td>...</td>\n",
              "      <td>25.410000</td>\n",
              "      <td>97.660000</td>\n",
              "      <td>686.500000</td>\n",
              "      <td>0.131300</td>\n",
              "      <td>0.211900</td>\n",
              "      <td>0.226700</td>\n",
              "      <td>0.099930</td>\n",
              "      <td>0.282200</td>\n",
              "      <td>0.080040</td>\n",
              "      <td>1.000000</td>\n",
              "    </tr>\n",
              "    <tr>\n",
              "      <th>75%</th>\n",
              "      <td>15.780000</td>\n",
              "      <td>21.800000</td>\n",
              "      <td>104.100000</td>\n",
              "      <td>782.700000</td>\n",
              "      <td>0.105300</td>\n",
              "      <td>0.130400</td>\n",
              "      <td>0.130700</td>\n",
              "      <td>0.074000</td>\n",
              "      <td>0.195700</td>\n",
              "      <td>0.066120</td>\n",
              "      <td>...</td>\n",
              "      <td>29.720000</td>\n",
              "      <td>125.400000</td>\n",
              "      <td>1084.000000</td>\n",
              "      <td>0.146000</td>\n",
              "      <td>0.339100</td>\n",
              "      <td>0.382900</td>\n",
              "      <td>0.161400</td>\n",
              "      <td>0.317900</td>\n",
              "      <td>0.092080</td>\n",
              "      <td>1.000000</td>\n",
              "    </tr>\n",
              "    <tr>\n",
              "      <th>max</th>\n",
              "      <td>28.110000</td>\n",
              "      <td>39.280000</td>\n",
              "      <td>188.500000</td>\n",
              "      <td>2501.000000</td>\n",
              "      <td>0.163400</td>\n",
              "      <td>0.345400</td>\n",
              "      <td>0.426800</td>\n",
              "      <td>0.201200</td>\n",
              "      <td>0.304000</td>\n",
              "      <td>0.097440</td>\n",
              "      <td>...</td>\n",
              "      <td>49.540000</td>\n",
              "      <td>251.200000</td>\n",
              "      <td>4254.000000</td>\n",
              "      <td>0.222600</td>\n",
              "      <td>1.058000</td>\n",
              "      <td>1.252000</td>\n",
              "      <td>0.291000</td>\n",
              "      <td>0.663800</td>\n",
              "      <td>0.207500</td>\n",
              "      <td>1.000000</td>\n",
              "    </tr>\n",
              "  </tbody>\n",
              "</table>\n",
              "<p>8 rows × 31 columns</p>\n",
              "</div>\n",
              "      <button class=\"colab-df-convert\" onclick=\"convertToInteractive('df-d0b29ef1-3766-49bb-896c-7795311ba9b6')\"\n",
              "              title=\"Convert this dataframe to an interactive table.\"\n",
              "              style=\"display:none;\">\n",
              "        \n",
              "  <svg xmlns=\"http://www.w3.org/2000/svg\" height=\"24px\"viewBox=\"0 0 24 24\"\n",
              "       width=\"24px\">\n",
              "    <path d=\"M0 0h24v24H0V0z\" fill=\"none\"/>\n",
              "    <path d=\"M18.56 5.44l.94 2.06.94-2.06 2.06-.94-2.06-.94-.94-2.06-.94 2.06-2.06.94zm-11 1L8.5 8.5l.94-2.06 2.06-.94-2.06-.94L8.5 2.5l-.94 2.06-2.06.94zm10 10l.94 2.06.94-2.06 2.06-.94-2.06-.94-.94-2.06-.94 2.06-2.06.94z\"/><path d=\"M17.41 7.96l-1.37-1.37c-.4-.4-.92-.59-1.43-.59-.52 0-1.04.2-1.43.59L10.3 9.45l-7.72 7.72c-.78.78-.78 2.05 0 2.83L4 21.41c.39.39.9.59 1.41.59.51 0 1.02-.2 1.41-.59l7.78-7.78 2.81-2.81c.8-.78.8-2.07 0-2.86zM5.41 20L4 18.59l7.72-7.72 1.47 1.35L5.41 20z\"/>\n",
              "  </svg>\n",
              "      </button>\n",
              "      \n",
              "  <style>\n",
              "    .colab-df-container {\n",
              "      display:flex;\n",
              "      flex-wrap:wrap;\n",
              "      gap: 12px;\n",
              "    }\n",
              "\n",
              "    .colab-df-convert {\n",
              "      background-color: #E8F0FE;\n",
              "      border: none;\n",
              "      border-radius: 50%;\n",
              "      cursor: pointer;\n",
              "      display: none;\n",
              "      fill: #1967D2;\n",
              "      height: 32px;\n",
              "      padding: 0 0 0 0;\n",
              "      width: 32px;\n",
              "    }\n",
              "\n",
              "    .colab-df-convert:hover {\n",
              "      background-color: #E2EBFA;\n",
              "      box-shadow: 0px 1px 2px rgba(60, 64, 67, 0.3), 0px 1px 3px 1px rgba(60, 64, 67, 0.15);\n",
              "      fill: #174EA6;\n",
              "    }\n",
              "\n",
              "    [theme=dark] .colab-df-convert {\n",
              "      background-color: #3B4455;\n",
              "      fill: #D2E3FC;\n",
              "    }\n",
              "\n",
              "    [theme=dark] .colab-df-convert:hover {\n",
              "      background-color: #434B5C;\n",
              "      box-shadow: 0px 1px 3px 1px rgba(0, 0, 0, 0.15);\n",
              "      filter: drop-shadow(0px 1px 2px rgba(0, 0, 0, 0.3));\n",
              "      fill: #FFFFFF;\n",
              "    }\n",
              "  </style>\n",
              "\n",
              "      <script>\n",
              "        const buttonEl =\n",
              "          document.querySelector('#df-d0b29ef1-3766-49bb-896c-7795311ba9b6 button.colab-df-convert');\n",
              "        buttonEl.style.display =\n",
              "          google.colab.kernel.accessAllowed ? 'block' : 'none';\n",
              "\n",
              "        async function convertToInteractive(key) {\n",
              "          const element = document.querySelector('#df-d0b29ef1-3766-49bb-896c-7795311ba9b6');\n",
              "          const dataTable =\n",
              "            await google.colab.kernel.invokeFunction('convertToInteractive',\n",
              "                                                     [key], {});\n",
              "          if (!dataTable) return;\n",
              "\n",
              "          const docLinkHtml = 'Like what you see? Visit the ' +\n",
              "            '<a target=\"_blank\" href=https://colab.research.google.com/notebooks/data_table.ipynb>data table notebook</a>'\n",
              "            + ' to learn more about interactive tables.';\n",
              "          element.innerHTML = '';\n",
              "          dataTable['output_type'] = 'display_data';\n",
              "          await google.colab.output.renderOutput(dataTable, element);\n",
              "          const docLink = document.createElement('div');\n",
              "          docLink.innerHTML = docLinkHtml;\n",
              "          element.appendChild(docLink);\n",
              "        }\n",
              "      </script>\n",
              "    </div>\n",
              "  </div>\n",
              "  "
            ]
          },
          "metadata": {},
          "execution_count": 32
        }
      ]
    },
    {
      "cell_type": "code",
      "source": [
        "# Showing the distribution of Target Varibale\n",
        "data_frame['target'].value_counts()"
      ],
      "metadata": {
        "colab": {
          "base_uri": "https://localhost:8080/"
        },
        "id": "iIz439ZkaFSE",
        "outputId": "4462addf-c49e-46ee-aa1e-f9d75504843f"
      },
      "execution_count": 33,
      "outputs": [
        {
          "output_type": "execute_result",
          "data": {
            "text/plain": [
              "1    357\n",
              "0    212\n",
              "Name: target, dtype: int64"
            ]
          },
          "metadata": {},
          "execution_count": 33
        }
      ]
    },
    {
      "cell_type": "markdown",
      "source": [
        "1 means Benign \n",
        "\n",
        "0 means Malignant"
      ],
      "metadata": {
        "id": "8HJB0yOcaK2H"
      }
    },
    {
      "cell_type": "code",
      "source": [
        "data_frame.groupby('target').mean()"
      ],
      "metadata": {
        "colab": {
          "base_uri": "https://localhost:8080/",
          "height": 271
        },
        "id": "YF4s3RT4aISj",
        "outputId": "b4e4f8c5-76e7-4296-bf82-ece818747f24"
      },
      "execution_count": 34,
      "outputs": [
        {
          "output_type": "execute_result",
          "data": {
            "text/plain": [
              "        mean radius  mean texture  mean perimeter   mean area  \\\n",
              "target                                                          \n",
              "0         17.462830     21.604906      115.365377  978.376415   \n",
              "1         12.146524     17.914762       78.075406  462.790196   \n",
              "\n",
              "        mean smoothness  mean compactness  mean concavity  \\\n",
              "target                                                      \n",
              "0              0.102898          0.145188        0.160775   \n",
              "1              0.092478          0.080085        0.046058   \n",
              "\n",
              "        mean concave points  mean symmetry  mean fractal dimension  ...  \\\n",
              "target                                                              ...   \n",
              "0                  0.087990       0.192909                0.062680  ...   \n",
              "1                  0.025717       0.174186                0.062867  ...   \n",
              "\n",
              "        worst radius  worst texture  worst perimeter   worst area  \\\n",
              "target                                                              \n",
              "0          21.134811      29.318208       141.370330  1422.286321   \n",
              "1          13.379801      23.515070        87.005938   558.899440   \n",
              "\n",
              "        worst smoothness  worst compactness  worst concavity  \\\n",
              "target                                                         \n",
              "0               0.144845           0.374824         0.450606   \n",
              "1               0.124959           0.182673         0.166238   \n",
              "\n",
              "        worst concave points  worst symmetry  worst fractal dimension  \n",
              "target                                                                 \n",
              "0                   0.182237        0.323468                 0.091530  \n",
              "1                   0.074444        0.270246                 0.079442  \n",
              "\n",
              "[2 rows x 30 columns]"
            ],
            "text/html": [
              "\n",
              "  <div id=\"df-a2d0a948-5ab8-441c-a4b4-85c075ca3947\">\n",
              "    <div class=\"colab-df-container\">\n",
              "      <div>\n",
              "<style scoped>\n",
              "    .dataframe tbody tr th:only-of-type {\n",
              "        vertical-align: middle;\n",
              "    }\n",
              "\n",
              "    .dataframe tbody tr th {\n",
              "        vertical-align: top;\n",
              "    }\n",
              "\n",
              "    .dataframe thead th {\n",
              "        text-align: right;\n",
              "    }\n",
              "</style>\n",
              "<table border=\"1\" class=\"dataframe\">\n",
              "  <thead>\n",
              "    <tr style=\"text-align: right;\">\n",
              "      <th></th>\n",
              "      <th>mean radius</th>\n",
              "      <th>mean texture</th>\n",
              "      <th>mean perimeter</th>\n",
              "      <th>mean area</th>\n",
              "      <th>mean smoothness</th>\n",
              "      <th>mean compactness</th>\n",
              "      <th>mean concavity</th>\n",
              "      <th>mean concave points</th>\n",
              "      <th>mean symmetry</th>\n",
              "      <th>mean fractal dimension</th>\n",
              "      <th>...</th>\n",
              "      <th>worst radius</th>\n",
              "      <th>worst texture</th>\n",
              "      <th>worst perimeter</th>\n",
              "      <th>worst area</th>\n",
              "      <th>worst smoothness</th>\n",
              "      <th>worst compactness</th>\n",
              "      <th>worst concavity</th>\n",
              "      <th>worst concave points</th>\n",
              "      <th>worst symmetry</th>\n",
              "      <th>worst fractal dimension</th>\n",
              "    </tr>\n",
              "    <tr>\n",
              "      <th>target</th>\n",
              "      <th></th>\n",
              "      <th></th>\n",
              "      <th></th>\n",
              "      <th></th>\n",
              "      <th></th>\n",
              "      <th></th>\n",
              "      <th></th>\n",
              "      <th></th>\n",
              "      <th></th>\n",
              "      <th></th>\n",
              "      <th></th>\n",
              "      <th></th>\n",
              "      <th></th>\n",
              "      <th></th>\n",
              "      <th></th>\n",
              "      <th></th>\n",
              "      <th></th>\n",
              "      <th></th>\n",
              "      <th></th>\n",
              "      <th></th>\n",
              "      <th></th>\n",
              "    </tr>\n",
              "  </thead>\n",
              "  <tbody>\n",
              "    <tr>\n",
              "      <th>0</th>\n",
              "      <td>17.462830</td>\n",
              "      <td>21.604906</td>\n",
              "      <td>115.365377</td>\n",
              "      <td>978.376415</td>\n",
              "      <td>0.102898</td>\n",
              "      <td>0.145188</td>\n",
              "      <td>0.160775</td>\n",
              "      <td>0.087990</td>\n",
              "      <td>0.192909</td>\n",
              "      <td>0.062680</td>\n",
              "      <td>...</td>\n",
              "      <td>21.134811</td>\n",
              "      <td>29.318208</td>\n",
              "      <td>141.370330</td>\n",
              "      <td>1422.286321</td>\n",
              "      <td>0.144845</td>\n",
              "      <td>0.374824</td>\n",
              "      <td>0.450606</td>\n",
              "      <td>0.182237</td>\n",
              "      <td>0.323468</td>\n",
              "      <td>0.091530</td>\n",
              "    </tr>\n",
              "    <tr>\n",
              "      <th>1</th>\n",
              "      <td>12.146524</td>\n",
              "      <td>17.914762</td>\n",
              "      <td>78.075406</td>\n",
              "      <td>462.790196</td>\n",
              "      <td>0.092478</td>\n",
              "      <td>0.080085</td>\n",
              "      <td>0.046058</td>\n",
              "      <td>0.025717</td>\n",
              "      <td>0.174186</td>\n",
              "      <td>0.062867</td>\n",
              "      <td>...</td>\n",
              "      <td>13.379801</td>\n",
              "      <td>23.515070</td>\n",
              "      <td>87.005938</td>\n",
              "      <td>558.899440</td>\n",
              "      <td>0.124959</td>\n",
              "      <td>0.182673</td>\n",
              "      <td>0.166238</td>\n",
              "      <td>0.074444</td>\n",
              "      <td>0.270246</td>\n",
              "      <td>0.079442</td>\n",
              "    </tr>\n",
              "  </tbody>\n",
              "</table>\n",
              "<p>2 rows × 30 columns</p>\n",
              "</div>\n",
              "      <button class=\"colab-df-convert\" onclick=\"convertToInteractive('df-a2d0a948-5ab8-441c-a4b4-85c075ca3947')\"\n",
              "              title=\"Convert this dataframe to an interactive table.\"\n",
              "              style=\"display:none;\">\n",
              "        \n",
              "  <svg xmlns=\"http://www.w3.org/2000/svg\" height=\"24px\"viewBox=\"0 0 24 24\"\n",
              "       width=\"24px\">\n",
              "    <path d=\"M0 0h24v24H0V0z\" fill=\"none\"/>\n",
              "    <path d=\"M18.56 5.44l.94 2.06.94-2.06 2.06-.94-2.06-.94-.94-2.06-.94 2.06-2.06.94zm-11 1L8.5 8.5l.94-2.06 2.06-.94-2.06-.94L8.5 2.5l-.94 2.06-2.06.94zm10 10l.94 2.06.94-2.06 2.06-.94-2.06-.94-.94-2.06-.94 2.06-2.06.94z\"/><path d=\"M17.41 7.96l-1.37-1.37c-.4-.4-.92-.59-1.43-.59-.52 0-1.04.2-1.43.59L10.3 9.45l-7.72 7.72c-.78.78-.78 2.05 0 2.83L4 21.41c.39.39.9.59 1.41.59.51 0 1.02-.2 1.41-.59l7.78-7.78 2.81-2.81c.8-.78.8-2.07 0-2.86zM5.41 20L4 18.59l7.72-7.72 1.47 1.35L5.41 20z\"/>\n",
              "  </svg>\n",
              "      </button>\n",
              "      \n",
              "  <style>\n",
              "    .colab-df-container {\n",
              "      display:flex;\n",
              "      flex-wrap:wrap;\n",
              "      gap: 12px;\n",
              "    }\n",
              "\n",
              "    .colab-df-convert {\n",
              "      background-color: #E8F0FE;\n",
              "      border: none;\n",
              "      border-radius: 50%;\n",
              "      cursor: pointer;\n",
              "      display: none;\n",
              "      fill: #1967D2;\n",
              "      height: 32px;\n",
              "      padding: 0 0 0 0;\n",
              "      width: 32px;\n",
              "    }\n",
              "\n",
              "    .colab-df-convert:hover {\n",
              "      background-color: #E2EBFA;\n",
              "      box-shadow: 0px 1px 2px rgba(60, 64, 67, 0.3), 0px 1px 3px 1px rgba(60, 64, 67, 0.15);\n",
              "      fill: #174EA6;\n",
              "    }\n",
              "\n",
              "    [theme=dark] .colab-df-convert {\n",
              "      background-color: #3B4455;\n",
              "      fill: #D2E3FC;\n",
              "    }\n",
              "\n",
              "    [theme=dark] .colab-df-convert:hover {\n",
              "      background-color: #434B5C;\n",
              "      box-shadow: 0px 1px 3px 1px rgba(0, 0, 0, 0.15);\n",
              "      filter: drop-shadow(0px 1px 2px rgba(0, 0, 0, 0.3));\n",
              "      fill: #FFFFFF;\n",
              "    }\n",
              "  </style>\n",
              "\n",
              "      <script>\n",
              "        const buttonEl =\n",
              "          document.querySelector('#df-a2d0a948-5ab8-441c-a4b4-85c075ca3947 button.colab-df-convert');\n",
              "        buttonEl.style.display =\n",
              "          google.colab.kernel.accessAllowed ? 'block' : 'none';\n",
              "\n",
              "        async function convertToInteractive(key) {\n",
              "          const element = document.querySelector('#df-a2d0a948-5ab8-441c-a4b4-85c075ca3947');\n",
              "          const dataTable =\n",
              "            await google.colab.kernel.invokeFunction('convertToInteractive',\n",
              "                                                     [key], {});\n",
              "          if (!dataTable) return;\n",
              "\n",
              "          const docLinkHtml = 'Like what you see? Visit the ' +\n",
              "            '<a target=\"_blank\" href=https://colab.research.google.com/notebooks/data_table.ipynb>data table notebook</a>'\n",
              "            + ' to learn more about interactive tables.';\n",
              "          element.innerHTML = '';\n",
              "          dataTable['output_type'] = 'display_data';\n",
              "          await google.colab.output.renderOutput(dataTable, element);\n",
              "          const docLink = document.createElement('div');\n",
              "          docLink.innerHTML = docLinkHtml;\n",
              "          element.appendChild(docLink);\n",
              "        }\n",
              "      </script>\n",
              "    </div>\n",
              "  </div>\n",
              "  "
            ]
          },
          "metadata": {},
          "execution_count": 34
        }
      ]
    },
    {
      "cell_type": "markdown",
      "source": [
        "###**- Separating the features and target**\n"
      ],
      "metadata": {
        "id": "ijmhy3DCaYce"
      }
    },
    {
      "cell_type": "code",
      "source": [
        "X = data_frame.drop(columns='target', axis=1)\n",
        "Y = data_frame['target']"
      ],
      "metadata": {
        "id": "ZE2sXz1aaXTX"
      },
      "execution_count": 36,
      "outputs": []
    },
    {
      "cell_type": "code",
      "source": [
        "print(X)"
      ],
      "metadata": {
        "colab": {
          "base_uri": "https://localhost:8080/"
        },
        "id": "cdFqywn8afHJ",
        "outputId": "89172989-a37b-4420-a6bd-6c3bdf46bc07"
      },
      "execution_count": 37,
      "outputs": [
        {
          "output_type": "stream",
          "name": "stdout",
          "text": [
            "     mean radius  mean texture  mean perimeter  mean area  mean smoothness  \\\n",
            "0          17.99         10.38          122.80     1001.0          0.11840   \n",
            "1          20.57         17.77          132.90     1326.0          0.08474   \n",
            "2          19.69         21.25          130.00     1203.0          0.10960   \n",
            "3          11.42         20.38           77.58      386.1          0.14250   \n",
            "4          20.29         14.34          135.10     1297.0          0.10030   \n",
            "..           ...           ...             ...        ...              ...   \n",
            "564        21.56         22.39          142.00     1479.0          0.11100   \n",
            "565        20.13         28.25          131.20     1261.0          0.09780   \n",
            "566        16.60         28.08          108.30      858.1          0.08455   \n",
            "567        20.60         29.33          140.10     1265.0          0.11780   \n",
            "568         7.76         24.54           47.92      181.0          0.05263   \n",
            "\n",
            "     mean compactness  mean concavity  mean concave points  mean symmetry  \\\n",
            "0             0.27760         0.30010              0.14710         0.2419   \n",
            "1             0.07864         0.08690              0.07017         0.1812   \n",
            "2             0.15990         0.19740              0.12790         0.2069   \n",
            "3             0.28390         0.24140              0.10520         0.2597   \n",
            "4             0.13280         0.19800              0.10430         0.1809   \n",
            "..                ...             ...                  ...            ...   \n",
            "564           0.11590         0.24390              0.13890         0.1726   \n",
            "565           0.10340         0.14400              0.09791         0.1752   \n",
            "566           0.10230         0.09251              0.05302         0.1590   \n",
            "567           0.27700         0.35140              0.15200         0.2397   \n",
            "568           0.04362         0.00000              0.00000         0.1587   \n",
            "\n",
            "     mean fractal dimension  ...  worst radius  worst texture  \\\n",
            "0                   0.07871  ...        25.380          17.33   \n",
            "1                   0.05667  ...        24.990          23.41   \n",
            "2                   0.05999  ...        23.570          25.53   \n",
            "3                   0.09744  ...        14.910          26.50   \n",
            "4                   0.05883  ...        22.540          16.67   \n",
            "..                      ...  ...           ...            ...   \n",
            "564                 0.05623  ...        25.450          26.40   \n",
            "565                 0.05533  ...        23.690          38.25   \n",
            "566                 0.05648  ...        18.980          34.12   \n",
            "567                 0.07016  ...        25.740          39.42   \n",
            "568                 0.05884  ...         9.456          30.37   \n",
            "\n",
            "     worst perimeter  worst area  worst smoothness  worst compactness  \\\n",
            "0             184.60      2019.0           0.16220            0.66560   \n",
            "1             158.80      1956.0           0.12380            0.18660   \n",
            "2             152.50      1709.0           0.14440            0.42450   \n",
            "3              98.87       567.7           0.20980            0.86630   \n",
            "4             152.20      1575.0           0.13740            0.20500   \n",
            "..               ...         ...               ...                ...   \n",
            "564           166.10      2027.0           0.14100            0.21130   \n",
            "565           155.00      1731.0           0.11660            0.19220   \n",
            "566           126.70      1124.0           0.11390            0.30940   \n",
            "567           184.60      1821.0           0.16500            0.86810   \n",
            "568            59.16       268.6           0.08996            0.06444   \n",
            "\n",
            "     worst concavity  worst concave points  worst symmetry  \\\n",
            "0             0.7119                0.2654          0.4601   \n",
            "1             0.2416                0.1860          0.2750   \n",
            "2             0.4504                0.2430          0.3613   \n",
            "3             0.6869                0.2575          0.6638   \n",
            "4             0.4000                0.1625          0.2364   \n",
            "..               ...                   ...             ...   \n",
            "564           0.4107                0.2216          0.2060   \n",
            "565           0.3215                0.1628          0.2572   \n",
            "566           0.3403                0.1418          0.2218   \n",
            "567           0.9387                0.2650          0.4087   \n",
            "568           0.0000                0.0000          0.2871   \n",
            "\n",
            "     worst fractal dimension  \n",
            "0                    0.11890  \n",
            "1                    0.08902  \n",
            "2                    0.08758  \n",
            "3                    0.17300  \n",
            "4                    0.07678  \n",
            "..                       ...  \n",
            "564                  0.07115  \n",
            "565                  0.06637  \n",
            "566                  0.07820  \n",
            "567                  0.12400  \n",
            "568                  0.07039  \n",
            "\n",
            "[569 rows x 30 columns]\n"
          ]
        }
      ]
    },
    {
      "cell_type": "code",
      "source": [
        "print(Y)"
      ],
      "metadata": {
        "colab": {
          "base_uri": "https://localhost:8080/"
        },
        "id": "hscsuBziagJG",
        "outputId": "0d0a3c32-c268-4d2c-8636-3bc2cdb7595e"
      },
      "execution_count": 38,
      "outputs": [
        {
          "output_type": "stream",
          "name": "stdout",
          "text": [
            "0      0\n",
            "1      0\n",
            "2      0\n",
            "3      0\n",
            "4      0\n",
            "      ..\n",
            "564    0\n",
            "565    0\n",
            "566    0\n",
            "567    0\n",
            "568    1\n",
            "Name: target, Length: 569, dtype: int64\n"
          ]
        }
      ]
    },
    {
      "cell_type": "code",
      "source": [
        "# test_size=0.2 ==> 20% of data is going to be test data and 80% of data is a training data\n",
        "X_train, X_test, Y_train, Y_test = train_test_split(X, Y, test_size=0.2, random_state=2)"
      ],
      "metadata": {
        "id": "bPb9X2cUahlo"
      },
      "execution_count": 39,
      "outputs": []
    },
    {
      "cell_type": "code",
      "source": [
        "print(X.shape, X_train.shape, X_test.shape)"
      ],
      "metadata": {
        "colab": {
          "base_uri": "https://localhost:8080/"
        },
        "id": "HIyvseGta7Ad",
        "outputId": "a966c197-d22f-4018-c5b5-90b6b75c580b"
      },
      "execution_count": 40,
      "outputs": [
        {
          "output_type": "stream",
          "name": "stdout",
          "text": [
            "(569, 30) (455, 30) (114, 30)\n"
          ]
        }
      ]
    },
    {
      "cell_type": "markdown",
      "source": [
        "###**- Standardize the data**"
      ],
      "metadata": {
        "id": "4A7_3b4Ia8mt"
      }
    },
    {
      "cell_type": "code",
      "source": [
        "from sklearn.preprocessing import StandardScaler\n",
        "\n",
        "scaler = StandardScaler()\n",
        "\n",
        "X_train_std = scaler.fit_transform(X_train)\n",
        "\n",
        "X_test_std = scaler.transform(X_test)"
      ],
      "metadata": {
        "id": "v_2jrwIga7Ob"
      },
      "execution_count": 41,
      "outputs": []
    },
    {
      "cell_type": "markdown",
      "source": [
        "##**Building the Neural Network**\n"
      ],
      "metadata": {
        "id": "9uVd2LzubEdP"
      }
    },
    {
      "cell_type": "markdown",
      "source": [
        "![NN.png](data:image/png;base64,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)"
      ],
      "metadata": {
        "id": "r8ODSCaEbSql"
      }
    },
    {
      "cell_type": "code",
      "source": [
        "# Importing Tensorflow and Keras\n",
        "import tensorflow as tf\n",
        "tf.random.set_seed(3)\n",
        "from tensorflow import keras"
      ],
      "metadata": {
        "id": "8iuoSDUabDLv"
      },
      "execution_count": 42,
      "outputs": []
    },
    {
      "cell_type": "code",
      "source": [
        "# Setting up the layers of Neural Network\n",
        "\n",
        "model = keras.Sequential([\n",
        "                          keras.layers.Flatten(input_shape=(30,)), #input layer with 30 features (from datset) (converts 30 features to 1 dimension)\n",
        "                          keras.layers.Dense(20, activation='relu'), #inner layer with 20 neurons\n",
        "                          keras.layers.Dense(2, activation='sigmoid') #output layer (2 classes: 0 for Malignant, 1 for Benign)\n",
        "])"
      ],
      "metadata": {
        "id": "djSIs8RibaW1"
      },
      "execution_count": 43,
      "outputs": []
    },
    {
      "cell_type": "code",
      "source": [
        "# Compiling the Neural Network\n",
        "\n",
        "model.compile(optimizer='adam',\n",
        "              loss='sparse_categorical_crossentropy',\n",
        "              metrics=['accuracy'])"
      ],
      "metadata": {
        "id": "mEBKgKtGb7Pm"
      },
      "execution_count": 49,
      "outputs": []
    },
    {
      "cell_type": "code",
      "source": [
        "# Training the Neural Network\n",
        "\n",
        "history = model.fit(X_train_std, Y_train, validation_split=0.1, epochs=10)\n",
        "# epochs = number of iterations (how many times the model will go through the dataset)"
      ],
      "metadata": {
        "colab": {
          "base_uri": "https://localhost:8080/"
        },
        "id": "iMW0PMGIcK9r",
        "outputId": "f3c7ca07-2057-47cc-9b4e-a48494ddd6e4"
      },
      "execution_count": 50,
      "outputs": [
        {
          "output_type": "stream",
          "name": "stdout",
          "text": [
            "Epoch 1/10\n",
            "13/13 [==============================] - 1s 17ms/step - loss: 0.5798 - accuracy: 0.7237 - val_loss: 0.3884 - val_accuracy: 0.9130\n",
            "Epoch 2/10\n",
            "13/13 [==============================] - 0s 3ms/step - loss: 0.4069 - accuracy: 0.8631 - val_loss: 0.2845 - val_accuracy: 0.9783\n",
            "Epoch 3/10\n",
            "13/13 [==============================] - 0s 3ms/step - loss: 0.3059 - accuracy: 0.8924 - val_loss: 0.2272 - val_accuracy: 0.9783\n",
            "Epoch 4/10\n",
            "13/13 [==============================] - 0s 3ms/step - loss: 0.2491 - accuracy: 0.9095 - val_loss: 0.1939 - val_accuracy: 0.9783\n",
            "Epoch 5/10\n",
            "13/13 [==============================] - 0s 3ms/step - loss: 0.2119 - accuracy: 0.9218 - val_loss: 0.1719 - val_accuracy: 0.9783\n",
            "Epoch 6/10\n",
            "13/13 [==============================] - 0s 4ms/step - loss: 0.1870 - accuracy: 0.9364 - val_loss: 0.1557 - val_accuracy: 0.9783\n",
            "Epoch 7/10\n",
            "13/13 [==============================] - 0s 6ms/step - loss: 0.1682 - accuracy: 0.9389 - val_loss: 0.1433 - val_accuracy: 0.9783\n",
            "Epoch 8/10\n",
            "13/13 [==============================] - 0s 4ms/step - loss: 0.1537 - accuracy: 0.9487 - val_loss: 0.1328 - val_accuracy: 0.9783\n",
            "Epoch 9/10\n",
            "13/13 [==============================] - 0s 4ms/step - loss: 0.1419 - accuracy: 0.9535 - val_loss: 0.1236 - val_accuracy: 0.9783\n",
            "Epoch 10/10\n",
            "13/13 [==============================] - 0s 4ms/step - loss: 0.1314 - accuracy: 0.9633 - val_loss: 0.1169 - val_accuracy: 0.9783\n"
          ]
        }
      ]
    },
    {
      "cell_type": "markdown",
      "source": [
        "The training loss indicates how well the model is fitting the training data, while the validation loss indicates how well the model fits new data."
      ],
      "metadata": {
        "id": "hd2r_1xvpnyB"
      }
    },
    {
      "cell_type": "markdown",
      "source": [
        "##**- Visualizing accuracy and loss**"
      ],
      "metadata": {
        "id": "mNzC6H4IqP2v"
      }
    },
    {
      "cell_type": "code",
      "source": [
        "plt.plot(history.history['accuracy'])\n",
        "plt.plot(history.history['val_accuracy'])\n",
        "\n",
        "plt.title('model accuracy')\n",
        "plt.ylabel('accuracy')\n",
        "plt.xlabel('epoch')\n",
        "\n",
        "plt.legend(['training data', 'validation data'], loc='lower right')"
      ],
      "metadata": {
        "colab": {
          "base_uri": "https://localhost:8080/",
          "height": 313
        },
        "id": "Uemz43C7pmha",
        "outputId": "3ad0713c-36e1-40c8-ca44-a6246dcecb13"
      },
      "execution_count": 52,
      "outputs": [
        {
          "output_type": "execute_result",
          "data": {
            "text/plain": [
              "<matplotlib.legend.Legend at 0x7fa37620c430>"
            ]
          },
          "metadata": {},
          "execution_count": 52
        },
        {
          "output_type": "display_data",
          "data": {
            "text/plain": [
              "<Figure size 432x288 with 1 Axes>"
            ],
            "image/png": "[encoded data removed]"
          },
          "metadata": {
            "needs_background": "light"
          }
        }
      ]
    },
    {
      "cell_type": "code",
      "source": [
        "plt.plot(history.history['loss'])\n",
        "plt.plot(history.history['val_loss'])\n",
        "\n",
        "plt.title('model loss')\n",
        "plt.ylabel('loss')\n",
        "plt.xlabel('epoch')\n",
        "\n",
        "plt.legend(['training data', 'validation data'], loc = 'upper right')"
      ],
      "metadata": {
        "colab": {
          "base_uri": "https://localhost:8080/",
          "height": 313
        },
        "id": "z9pNCLbgqi5g",
        "outputId": "5c4a1367-aa4a-40e4-b51b-d981860d726c"
      },
      "execution_count": 53,
      "outputs": [
        {
          "output_type": "execute_result",
          "data": {
            "text/plain": [
              "<matplotlib.legend.Legend at 0x7fa3761d5730>"
            ]
          },
          "metadata": {},
          "execution_count": 53
        },
        {
          "output_type": "display_data",
          "data": {
            "text/plain": [
              "<Figure size 432x288 with 1 Axes>"
            ],
            "image/png": "[encoded data removed]"
          },
          "metadata": {
            "needs_background": "light"
          }
        }
      ]
    },
    {
      "cell_type": "markdown",
      "source": [
        "##**- Accuracy of the model on test data**"
      ],
      "metadata": {
        "id": "8iDzABT4qvVv"
      }
    },
    {
      "cell_type": "code",
      "source": [
        "loss, accuracy = model.evaluate(X_test_std, Y_test)\n",
        "print(accuracy)"
      ],
      "metadata": {
        "colab": {
          "base_uri": "https://localhost:8080/"
        },
        "id": "ZP46GYyhqr7k",
        "outputId": "3f168e5b-64f8-4e07-be3b-1042680833f1"
      },
      "execution_count": 54,
      "outputs": [
        {
          "output_type": "stream",
          "name": "stdout",
          "text": [
            "4/4 [==============================] - 0s 9ms/step - loss: 0.1273 - accuracy: 0.9737\n",
            "0.9736841917037964\n"
          ]
        }
      ]
    },
    {
      "cell_type": "code",
      "source": [
        "print(X_test_std.shape)\n",
        "print(X_test_std[0])"
      ],
      "metadata": {
        "colab": {
          "base_uri": "https://localhost:8080/"
        },
        "id": "xEsjVmkRq35l",
        "outputId": "1a11c090-1670-47a1-9cfd-4ff688cbddf3"
      },
      "execution_count": 55,
      "outputs": [
        {
          "output_type": "stream",
          "name": "stdout",
          "text": [
            "(114, 30)\n",
            "[-0.04462793 -1.41612656 -0.05903514 -0.16234067  2.0202457  -0.11323672\n",
            "  0.18500609  0.47102419  0.63336386  0.26335737  0.53209124  2.62763999\n",
            "  0.62351167  0.11405261  1.01246781  0.41126289  0.63848593  2.88971815\n",
            " -0.41675911  0.74270853 -0.32983699 -1.67435595 -0.36854552 -0.38767294\n",
            "  0.32655007 -0.74858917 -0.54689089 -0.18278004 -1.23064515 -0.6268286 ]\n"
          ]
        }
      ]
    },
    {
      "cell_type": "code",
      "source": [
        "Y_pred = model.predict(X_test_std)"
      ],
      "metadata": {
        "colab": {
          "base_uri": "https://localhost:8080/"
        },
        "id": "fgS9DIPiq8_O",
        "outputId": "8c1a341c-be25-418b-ae86-c737774f0bfa"
      },
      "execution_count": 56,
      "outputs": [
        {
          "output_type": "stream",
          "name": "stdout",
          "text": [
            "4/4 [==============================] - 0s 4ms/step\n"
          ]
        }
      ]
    },
    {
      "cell_type": "code",
      "source": [
        "print(Y_pred.shape)\n",
        "print(Y_pred[0]) \n",
        "# Y_pred[0] has 2 elements: the first index is the probability value for the data point to be in class 0 (Malignant) and the second index is the probability for the data point to be in class 1 (Benign)"
      ],
      "metadata": {
        "colab": {
          "base_uri": "https://localhost:8080/"
        },
        "id": "Q_ixlZFRq_yl",
        "outputId": "f04fa0d7-a0b0-4db7-988f-53ac8f1d92b5"
      },
      "execution_count": 57,
      "outputs": [
        {
          "output_type": "stream",
          "name": "stdout",
          "text": [
            "(114, 2)\n",
            "[0.35253248 0.5096883 ]\n"
          ]
        }
      ]
    },
    {
      "cell_type": "code",
      "source": [
        "print(X_test_std)"
      ],
      "metadata": {
        "colab": {
          "base_uri": "https://localhost:8080/"
        },
        "id": "I1IqVCuyrMis",
        "outputId": "6c3bbed8-16fb-4364-e37c-aca3479900d5"
      },
      "execution_count": 58,
      "outputs": [
        {
          "output_type": "stream",
          "name": "stdout",
          "text": [
            "[[-0.04462793 -1.41612656 -0.05903514 ... -0.18278004 -1.23064515\n",
            "  -0.6268286 ]\n",
            " [ 0.24583601 -0.06219797  0.21802678 ...  0.54129749  0.11047691\n",
            "   0.0483572 ]\n",
            " [-1.26115925 -0.29051645 -1.26499659 ... -1.35138617  0.269338\n",
            "  -0.28231213]\n",
            " ...\n",
            " [ 0.72709489  0.45836817  0.75277276 ...  1.46701686  1.19909344\n",
            "   0.65319961]\n",
            " [ 0.25437907  1.33054477  0.15659489 ... -1.29043534 -2.22561725\n",
            "  -1.59557344]\n",
            " [ 0.84100232 -0.06676434  0.8929529  ...  2.15137705  0.35629355\n",
            "   0.37459546]]\n"
          ]
        }
      ]
    },
    {
      "cell_type": "code",
      "source": [
        "print(Y_pred)"
      ],
      "metadata": {
        "colab": {
          "base_uri": "https://localhost:8080/"
        },
        "id": "JQVfx4xCrPhS",
        "outputId": "d8756a4c-f98b-4aef-beb4-032cc887a2f8"
      },
      "execution_count": 59,
      "outputs": [
        {
          "output_type": "stream",
          "name": "stdout",
          "text": [
            "[[3.52532476e-01 5.09688318e-01]\n",
            " [4.48819518e-01 6.39671922e-01]\n",
            " [7.77236596e-02 9.54797506e-01]\n",
            " [9.87053990e-01 6.04152039e-04]\n",
            " [3.99637222e-01 3.86358947e-01]\n",
            " [8.81420314e-01 2.54445001e-02]\n",
            " [2.31196865e-01 7.56302178e-01]\n",
            " [7.98084959e-02 9.39291537e-01]\n",
            " [1.82437286e-01 9.08723235e-01]\n",
            " [2.17808172e-01 8.38581443e-01]\n",
            " [5.17215550e-01 5.76673090e-01]\n",
            " [2.69769758e-01 8.00358772e-01]\n",
            " [2.57872164e-01 8.07288885e-01]\n",
            " [3.74741703e-01 7.93492496e-01]\n",
            " [1.10800140e-01 9.33896601e-01]\n",
            " [7.91043639e-01 2.42272705e-01]\n",
            " [1.21738479e-01 9.04611230e-01]\n",
            " [1.19124249e-01 8.48879755e-01]\n",
            " [1.99983135e-01 8.58543038e-01]\n",
            " [7.99560368e-01 2.34141368e-02]\n",
            " [2.80697215e-02 3.97514284e-01]\n",
            " [5.96571714e-02 8.42884183e-01]\n",
            " [2.31051281e-01 9.11577702e-01]\n",
            " [6.37717247e-02 9.06915367e-01]\n",
            " [1.26598939e-01 6.47980988e-01]\n",
            " [7.87011266e-01 6.83519691e-02]\n",
            " [2.18806252e-01 7.18833864e-01]\n",
            " [2.77573079e-01 3.83661181e-01]\n",
            " [8.56613696e-01 1.27740800e-01]\n",
            " [8.38154256e-01 1.21800557e-01]\n",
            " [3.02804530e-01 6.56933963e-01]\n",
            " [2.01736331e-01 9.23902273e-01]\n",
            " [7.41788447e-02 7.73730278e-01]\n",
            " [9.45674479e-01 1.98404565e-02]\n",
            " [7.98260808e-01 3.62115577e-02]\n",
            " [1.80579185e-01 6.20296717e-01]\n",
            " [1.37931839e-01 9.64400291e-01]\n",
            " [3.03043127e-01 8.73271823e-01]\n",
            " [5.79419397e-02 9.34768021e-01]\n",
            " [1.85705781e-01 9.22273934e-01]\n",
            " [9.49324787e-01 1.64976576e-03]\n",
            " [6.56987488e-01 3.12119305e-01]\n",
            " [3.20477962e-01 9.80843484e-01]\n",
            " [4.38446775e-02 7.81281531e-01]\n",
            " [4.58011776e-01 8.14982355e-02]\n",
            " [9.80422348e-02 9.09805417e-01]\n",
            " [1.89368073e-02 8.99510264e-01]\n",
            " [1.50504529e-01 9.83127117e-01]\n",
            " [9.55030441e-01 4.59824093e-02]\n",
            " [7.50581264e-01 1.15957424e-01]\n",
            " [1.89819485e-01 8.51266861e-01]\n",
            " [7.00565934e-01 2.26073369e-01]\n",
            " [5.12941599e-01 6.07427776e-01]\n",
            " [1.04046486e-01 8.92997503e-01]\n",
            " [5.16062118e-02 9.43519115e-01]\n",
            " [5.66863894e-01 3.76570165e-01]\n",
            " [1.59559429e-01 7.33134985e-01]\n",
            " [7.21621737e-02 9.53346848e-01]\n",
            " [6.81772232e-01 6.86144782e-03]\n",
            " [9.31151733e-02 7.84259319e-01]\n",
            " [2.75227845e-01 6.74018264e-01]\n",
            " [7.04416752e-01 6.79756999e-02]\n",
            " [8.03014114e-02 9.22440231e-01]\n",
            " [7.66858876e-01 6.02775291e-02]\n",
            " [8.61950994e-01 2.08498433e-01]\n",
            " [2.38620803e-01 2.45253891e-01]\n",
            " [8.91853452e-01 4.85506691e-02]\n",
            " [8.07439625e-01 1.01397708e-01]\n",
            " [4.20483381e-01 4.84316409e-01]\n",
            " [6.48163497e-01 4.10355717e-01]\n",
            " [7.56402075e-01 1.97518364e-01]\n",
            " [9.12356734e-01 2.57394575e-02]\n",
            " [1.89111277e-01 9.30199683e-01]\n",
            " [6.29602015e-01 2.51604021e-01]\n",
            " [3.14373188e-02 9.52884614e-01]\n",
            " [5.68179607e-01 1.92618236e-01]\n",
            " [1.33410662e-01 9.42616582e-01]\n",
            " [5.02045527e-02 8.85035098e-01]\n",
            " [4.29343551e-01 6.59919977e-01]\n",
            " [3.51253718e-01 2.50329107e-01]\n",
            " [8.57866168e-01 7.45833963e-02]\n",
            " [6.15897477e-01 3.24038476e-01]\n",
            " [7.80464709e-01 3.28262560e-02]\n",
            " [2.97820061e-01 8.25631797e-01]\n",
            " [3.22329760e-01 9.15029883e-01]\n",
            " [5.12665212e-01 5.33478677e-01]\n",
            " [3.99113074e-02 7.48052359e-01]\n",
            " [6.61574751e-02 8.69753540e-01]\n",
            " [1.14416167e-01 6.16220117e-01]\n",
            " [8.98313224e-01 1.69061925e-02]\n",
            " [6.47959709e-02 8.64912689e-01]\n",
            " [3.39672744e-01 8.14571321e-01]\n",
            " [5.38001582e-02 7.56993413e-01]\n",
            " [8.31287622e-01 1.75130755e-01]\n",
            " [5.90439916e-01 3.28285128e-01]\n",
            " [1.26201838e-01 7.99193263e-01]\n",
            " [8.27804506e-01 5.27611896e-02]\n",
            " [8.52854133e-01 4.24981937e-02]\n",
            " [4.14670825e-01 8.74423802e-01]\n",
            " [6.40920475e-02 9.40128028e-01]\n",
            " [3.13404724e-02 9.51594710e-01]\n",
            " [4.71778244e-01 1.79165587e-01]\n",
            " [9.73144233e-01 1.58096850e-02]\n",
            " [9.36961472e-01 4.25355462e-03]\n",
            " [2.55101085e-01 8.89829338e-01]\n",
            " [5.93144968e-02 9.21470463e-01]\n",
            " [2.54575089e-02 7.91538715e-01]\n",
            " [2.15622216e-01 9.43121135e-01]\n",
            " [5.05409576e-02 9.95068669e-01]\n",
            " [4.32130218e-01 8.08572292e-01]\n",
            " [8.50104094e-01 7.60610551e-02]\n",
            " [8.94604921e-01 2.48076022e-02]\n",
            " [4.58159298e-01 3.21265608e-01]\n",
            " [7.20080793e-01 5.82030267e-02]]\n"
          ]
        }
      ]
    },
    {
      "cell_type": "markdown",
      "source": [
        "###*model.predict() gives the prediction probability of each class for that data point*"
      ],
      "metadata": {
        "id": "EQD7OGJVrnje"
      }
    },
    {
      "cell_type": "code",
      "source": [
        "# using argmax function to get index of max value \n",
        "\n",
        "List = [0.2, 0.5]\n",
        "# index 0 = 0.2\n",
        "# index 1 = 0.5\n",
        "\n",
        "index_of_max_value = np.argmax(List)\n",
        "print(List)\n",
        "print(index_of_max_value)"
      ],
      "metadata": {
        "colab": {
          "base_uri": "https://localhost:8080/"
        },
        "id": "_zpjhuwMrRme",
        "outputId": "7943dae3-7c1e-4771-8696-780a17af0a56"
      },
      "execution_count": 61,
      "outputs": [
        {
          "output_type": "stream",
          "name": "stdout",
          "text": [
            "[0.2, 0.5]\n",
            "1\n"
          ]
        }
      ]
    },
    {
      "cell_type": "code",
      "source": [
        "# Converting the prediction probability to class labels (targets)\n",
        "# As 0 means Malignant, and 1 means Benign (we can use the index as a representative of the class in this case)\n",
        "\n",
        "Y_pred_targets = [np.argmax(i) for i in Y_pred]\n",
        "print(Y_pred_targets)"
      ],
      "metadata": {
        "colab": {
          "base_uri": "https://localhost:8080/"
        },
        "id": "DgIcYQ53sq2l",
        "outputId": "9cdee223-c155-4271-9f56-67560ea77fdd"
      },
      "execution_count": 63,
      "outputs": [
        {
          "output_type": "stream",
          "name": "stdout",
          "text": [
            "[1, 1, 1, 0, 0, 0, 1, 1, 1, 1, 1, 1, 1, 1, 1, 0, 1, 1, 1, 0, 1, 1, 1, 1, 1, 0, 1, 1, 0, 0, 1, 1, 1, 0, 0, 1, 1, 1, 1, 1, 0, 0, 1, 1, 0, 1, 1, 1, 0, 0, 1, 0, 1, 1, 1, 0, 1, 1, 0, 1, 1, 0, 1, 0, 0, 1, 0, 0, 1, 0, 0, 0, 1, 0, 1, 0, 1, 1, 1, 0, 0, 0, 0, 1, 1, 1, 1, 1, 1, 0, 1, 1, 1, 0, 0, 1, 0, 0, 1, 1, 1, 0, 0, 0, 1, 1, 1, 1, 1, 1, 0, 0, 0, 0]\n"
          ]
        }
      ]
    },
    {
      "cell_type": "markdown",
      "source": [
        "##**Building the Predictive System**"
      ],
      "metadata": {
        "id": "L2s2ihn8t4SQ"
      }
    },
    {
      "cell_type": "code",
      "source": [
        "input_data = (11.76,21.6,74.72,427.9,0.08637,0.04966,0.01657,0.01115,0.1495,0.05888,0.4062,1.21,2.635,28.47,0.005857,0.009758,0.01168,0.007445,0.02406,0.001769,12.98,25.72,82.98,516.5,0.1085,0.08615,0.05523,0.03715,0.2433,0.06563)\n",
        "\n",
        "# Change the input_data to a numpy array\n",
        "input_array = np.asarray(input_data)\n",
        "\n",
        "# Reshaping the numpy array as we are predicting for one data point (so that our model isn't confused)\n",
        "input_reshaped = input_array.reshape(1,-1) #one row (one data point) and all columns (features)\n",
        "\n",
        "# Standardizing the input data\n",
        "input_std = scaler.transform(input_reshaped)\n",
        "\n",
        "prediction = model.predict(input_std)\n",
        "print(prediction)\n",
        "\n",
        "prediction_label = [np.argmax(prediction)]\n",
        "print(prediction_label)\n",
        "\n",
        "if(prediction_label[0] == 0):\n",
        "  print(\"The tumor is Malignant\")\n",
        "else:\n",
        "  print(\"The tumor is Benign\")"
      ],
      "metadata": {
        "colab": {
          "base_uri": "https://localhost:8080/"
        },
        "id": "1MH3vPkCtl0W",
        "outputId": "b4db23fd-3852-47be-b027-cd8c3e8d6251"
      },
      "execution_count": 64,
      "outputs": [
        {
          "output_type": "stream",
          "name": "stdout",
          "text": [
            "1/1 [==============================] - 0s 21ms/step\n",
            "[[0.10582116 0.8940957 ]]\n",
            "[1]\n",
            "The tumor is Benign\n"
          ]
        },
        {
          "output_type": "stream",
          "name": "stderr",
          "text": [
            "/usr/local/lib/python3.8/dist-packages/sklearn/base.py:450: UserWarning: X does not have valid feature names, but StandardScaler was fitted with feature names\n",
            "  warnings.warn(\n"
          ]
        }
      ]
    },
    {
      "cell_type": "code",
      "source": [],
      "metadata": {
        "id": "l79evJbFvE6y"
      },
      "execution_count": null,
      "outputs": []
    }
  ]
}